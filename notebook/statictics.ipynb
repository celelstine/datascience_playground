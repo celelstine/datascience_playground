{
 "cells": [
  {
   "cell_type": "code",
   "execution_count": 9,
   "metadata": {},
   "outputs": [],
   "source": [
    "# data generations\n",
    "import random\n",
    "\n",
    "rand_numbers = [random.randint(1, 150) for _ in range(100)]\n",
    "\n",
    "number = [\n",
    "    139, 68, 9, 20, 147, 94, 145, 134, 134, 46, 101, 104, 68, 15, 74, 87,\n",
    "    90, 114, 2, 30, 35, 79, 147, 14, 149, 16, 74, 74, 113, 100, 106, 58,\n",
    "    93, 2, 14, 6, 61, 2, 68, 23, 33, 21, 137, 128, 144, 54, 40, 29, 110,\n",
    "    83, 36, 89, 5, 20, 144, 29, 120, 87, 145, 59, 17, 53, 86, 98, 10, 7,\n",
    "    45, 93, 81, 111, 32, 21, 140, 10, 117, 95, 98, 65, 141, 126, 131, 49,\n",
    "    54, 23, 35, 100, 109, 62, 14, 75, 70, 93, 12, 91, 35, 1, 69, 59, 138, 83\n",
    "]"
   ]
  },
  {
   "cell_type": "code",
   "execution_count": 47,
   "metadata": {},
   "outputs": [
    {
     "name": "stdout",
     "output_type": "stream",
     "text": [
      "came here\n",
      "71.17\n"
     ]
    }
   ],
   "source": [
    "def mean(lst):\n",
    "    \"\"\"\n",
    "    return sum divided by number of items\n",
    "    \n",
    "    >>> mean([1,4,5,6])\n",
    "    164/4 = 4\n",
    "    \"\"\"\n",
    "    if len(lst) == 0:\n",
    "        return 0\n",
    "    total = 0\n",
    "    num = 0\n",
    "    for item in lst:\n",
    "        num += 1\n",
    "        total += item\n",
    "    return total/num\n",
    "\n",
    "print(mean(number))\n",
    "        "
   ]
  },
  {
   "cell_type": "code",
   "execution_count": 44,
   "metadata": {},
   "outputs": [
    {
     "name": "stdout",
     "output_type": "stream",
     "text": [
      "came here\n",
      "72.0\n"
     ]
    }
   ],
   "source": [
    "def median(lst):\n",
    "    \"\"\"\n",
    "    get the number at the middle of a sorted list, if the number of items is an odd number\n",
    "    else return the sum of the 2 middle numbers divided by 2\n",
    "    \n",
    "    >>> median([[2,5,1,5]])\n",
    "    \n",
    "    [1, 2, 5, 5] \n",
    "    2 + 5 / 2 = 3.5\n",
    "    \"\"\"\n",
    "    if len(lst) == 0:\n",
    "        return 0\n",
    "\n",
    "    sorted_lst = sorted(lst)\n",
    "    num_items = len(lst)\n",
    "    mid_point = int(num_items/2)\n",
    "    \n",
    "    if num_items % 2 == 1:\n",
    "        return sorted_lst[mid_point]\n",
    "    \n",
    "    \n",
    "    return (sorted_lst[mid_point] + sorted_lst[mid_point-1]) / 2\n",
    "\n",
    "print(median(numbers))"
   ]
  },
  {
   "cell_type": "code",
   "execution_count": 34,
   "metadata": {},
   "outputs": [
    {
     "name": "stdout",
     "output_type": "stream",
     "text": [
      "[68, 74, 2, 35, 14, 93]\n"
     ]
    }
   ],
   "source": [
    "from collections import Counter\n",
    "def mode(lst):\n",
    "    \"\"\"\n",
    "    get the most occurring items, not in any order\n",
    "    \n",
    "    >>> mode([3, 5,3, 5, 6, 2])\n",
    "    [3, 5]\n",
    "    \n",
    "    \"\"\"\n",
    "    counts = Counter(lst)\n",
    "    # can use counts.most_common\n",
    "    max_count = counts.get(max(counts, key=lambda item: counts.get(item)))\n",
    "\n",
    "    # get items with the max count\n",
    "    return [\n",
    "        item for item, count in counts.items() \n",
    "        if count == max_count\n",
    "    ]\n",
    "\n",
    "print(mode(numbers))"
   ]
  },
  {
   "cell_type": "code",
   "execution_count": 53,
   "metadata": {},
   "outputs": [
    {
     "name": "stdout",
     "output_type": "stream",
     "text": [
      "148\n",
      "came here\n",
      "[67.83, -3.1700000000000017, -62.17, -51.17, 75.83, 22.83, 73.83, 62.83, 62.83, -25.17, 29.83, 32.83, -3.1700000000000017, -56.17, 2.8299999999999983, 15.829999999999998, 18.83, 42.83, -69.17, -41.17, -36.17, 7.829999999999998, 75.83, -57.17, 77.83, -55.17, 2.8299999999999983, 2.8299999999999983, 41.83, 28.83, 34.83, -13.170000000000002, 21.83, -69.17, -57.17, -65.17, -10.170000000000002, -69.17, -3.1700000000000017, -48.17, -38.17, -50.17, 65.83, 56.83, 72.83, -17.17, -31.17, -42.17, 38.83, 11.829999999999998, -35.17, 17.83, -66.17, -51.17, 72.83, -42.17, 48.83, 15.829999999999998, 73.83, -12.170000000000002, -54.17, -18.17, 14.829999999999998, 26.83, -61.17, -64.17, -26.17, 21.83, 9.829999999999998, 39.83, -39.17, -50.17, 68.83, -61.17, 45.83, 23.83, 26.83, -6.170000000000002, 69.83, 54.83, 59.83, -22.17, -17.17, -48.17, -36.17, 28.83, 37.83, -9.170000000000002, -57.17, 3.8299999999999983, -1.1700000000000017, 21.83, -59.17, 19.83, -36.17, -70.17, -2.1700000000000017, -12.170000000000002, 66.83, 11.829999999999998]\n",
      "708527\n"
     ]
    }
   ],
   "source": [
    "# dispersion\n",
    "\n",
    "def data_range(lst):\n",
    "    \"\"\"largest minus smallest\"\"\"\n",
    "    return max(lst) - min(lst)\n",
    "\n",
    "print(data_range(numbers))\n",
    "\n"
   ]
  },
  {
   "cell_type": "code",
   "execution_count": 42,
   "metadata": {},
   "outputs": [
    {
     "data": {
      "text/plain": [
       "[(68, 3),\n",
       " (74, 3),\n",
       " (2, 3),\n",
       " (35, 3),\n",
       " (14, 3),\n",
       " (93, 3),\n",
       " (20, 2),\n",
       " (147, 2),\n",
       " (145, 2),\n",
       " (134, 2),\n",
       " (87, 2),\n",
       " (100, 2),\n",
       " (23, 2),\n",
       " (21, 2),\n",
       " (144, 2),\n",
       " (54, 2),\n",
       " (29, 2),\n",
       " (83, 2),\n",
       " (59, 2),\n",
       " (98, 2),\n",
       " (10, 2),\n",
       " (139, 1),\n",
       " (9, 1),\n",
       " (94, 1),\n",
       " (46, 1),\n",
       " (101, 1),\n",
       " (104, 1),\n",
       " (15, 1),\n",
       " (90, 1),\n",
       " (114, 1),\n",
       " (30, 1),\n",
       " (79, 1),\n",
       " (149, 1),\n",
       " (16, 1),\n",
       " (113, 1),\n",
       " (106, 1),\n",
       " (58, 1),\n",
       " (6, 1),\n",
       " (61, 1),\n",
       " (33, 1),\n",
       " (137, 1),\n",
       " (128, 1),\n",
       " (40, 1),\n",
       " (110, 1),\n",
       " (36, 1),\n",
       " (89, 1),\n",
       " (5, 1),\n",
       " (120, 1),\n",
       " (17, 1),\n",
       " (53, 1),\n",
       " (86, 1),\n",
       " (7, 1),\n",
       " (45, 1),\n",
       " (81, 1),\n",
       " (111, 1),\n",
       " (32, 1),\n",
       " (140, 1),\n",
       " (117, 1),\n",
       " (95, 1),\n",
       " (65, 1),\n",
       " (141, 1),\n",
       " (126, 1),\n",
       " (131, 1),\n",
       " (49, 1),\n",
       " (109, 1),\n",
       " (62, 1),\n",
       " (75, 1),\n",
       " (70, 1),\n",
       " (12, 1),\n",
       " (91, 1),\n",
       " (1, 1),\n",
       " (69, 1),\n",
       " (138, 1)]"
      ]
     },
     "execution_count": 42,
     "metadata": {},
     "output_type": "execute_result"
    }
   ],
   "source": [
    "def de_mean(lst):\n",
    "    \"\"\"\n",
    "    even a list substract the mean from each item\n",
    "    \n",
    "    >>> de_mean([1,4,5,6])\n",
    "    [item - 4 for item in lst]\n",
    "    \"\"\"\n",
    "    _mean = mean(lst)\n",
    "    return [ item - _mean for item in lst]\n",
    "\n",
    "print(de_mean(numbers))"
   ]
  },
  {
   "cell_type": "code",
   "execution_count": 54,
   "metadata": {},
   "outputs": [
    {
     "name": "stdout",
     "output_type": "stream",
     "text": [
      "708527\n"
     ]
    }
   ],
   "source": [
    "def sum_of_squares(lst):\n",
    "    \"\"\"\n",
    "    return the sum of the square of the items in a list\n",
    "    \n",
    "    >>> sum_of_squares([1,4,6,7])\n",
    "    1 + 16 + 36 + 49\n",
    "    \"\"\"\n",
    "    result = 0\n",
    "    for item in lst:\n",
    "        result += item ** 2\n",
    "        \n",
    "    return result\n",
    "\n",
    "print(sum_of_squares(numbers))"
   ]
  },
  {
   "cell_type": "code",
   "execution_count": 78,
   "metadata": {},
   "outputs": [
    {
     "name": "stdout",
     "output_type": "stream",
     "text": [
      "came here\n",
      "2040.5061616161615\n"
     ]
    }
   ],
   "source": [
    "def variance(lst):\n",
    "    \"\"\"\n",
    "    return the sum of the square of the de_mean of a list divided by num of items minus 1\n",
    "    \n",
    "    the unit is square of the unit of the items, such as meter square\n",
    "    \n",
    "    >>> variance([1,3,5,6])\n",
    "    sum_of_squares(de_mean([1,3,5,6])) / n-1\n",
    "    \"\"\"\n",
    "    _de_mean = de_mean(lst)\n",
    "    return sum_of_squares(_de_mean) / (len(lst) -1 )\n",
    "\n",
    "print(variance(numbers))"
   ]
  },
  {
   "cell_type": "code",
   "execution_count": 79,
   "metadata": {},
   "outputs": [
    {
     "name": "stdout",
     "output_type": "stream",
     "text": [
      "came here\n",
      "45.17196211828928\n"
     ]
    }
   ],
   "source": [
    "import math\n",
    "\n",
    "def standard_deviation(lst):\n",
    "    \"\"\"\n",
    "    return the square root of the variance, it has the same unit as each item\n",
    "    \"\"\"\n",
    "    return math.sqrt(variance(lst))\n",
    "\n",
    "print(standard_deviation(numbers))"
   ]
  },
  {
   "cell_type": "code",
   "execution_count": 75,
   "metadata": {},
   "outputs": [
    {
     "name": "stdout",
     "output_type": "stream",
     "text": [
      "7117\n"
     ]
    }
   ],
   "source": [
    "def dot(*list_set, **kwargs):\n",
    "    \"\"\"\n",
    "    return the sum of each item in a group of list and return the sum of the items\n",
    "    \"\"\"\n",
    "    \n",
    "    if len(list_set) == 0:\n",
    "        return 0\n",
    "    \n",
    "    size = len(list_set[0])\n",
    "    no_list = len(list_set)\n",
    "    result = 0\n",
    "    \n",
    "    for i in range(size):\n",
    "        _row_multiple = 1\n",
    "        for j in range(no_list):\n",
    "            _row_multiple *= list_set[j][i]\n",
    "        result += _row_multiple\n",
    "    return result\n",
    "\n",
    "print(dot(numbers))"
   ]
  },
  {
   "cell_type": "code",
   "execution_count": 80,
   "metadata": {},
   "outputs": [
    {
     "name": "stdout",
     "output_type": "stream",
     "text": [
      "came here\n",
      "came here\n",
      "2040.5061616161615\n"
     ]
    }
   ],
   "source": [
    "def covariance(lst1, lst2):\n",
    "    \"\"\"\n",
    "    get the relationship betweent 2 list\n",
    "    \"\"\"\n",
    "    size = len(lst1)\n",
    "    return dot(de_mean(lst1), de_mean(lst2)) / (size - 1)\n",
    "\n",
    "\n",
    "print(covariance(numbers, numbers))\n",
    "    "
   ]
  },
  {
   "cell_type": "code",
   "execution_count": 12,
   "metadata": {},
   "outputs": [
    {
     "name": "stdout",
     "output_type": "stream",
     "text": [
      "1\n"
     ]
    }
   ],
   "source": [
    "def quantile(lst, percentage):\n",
    "    \"\"\"\n",
    "    get the element that percentage * num of item index\n",
    "    \n",
    "    >>> quantile([1,2,45,6], 0.75)\n",
    "    \n",
    "    [1,2,45,6][0.75 * 4 - 1] >> [1,2,45,6][2] = 45\n",
    "    \"\"\"\n",
    "    \n",
    "    num_items = len(lst)\n",
    "    if num_items == 0:\n",
    "        return None\n",
    "    \n",
    "    if percentage > 1:\n",
    "        raise ValueError(\"percentage should be between 0 and 1.0\")\n",
    "    \n",
    "    index = int(percentage * num_items)\n",
    "    \n",
    "    if index > 1:\n",
    "        index -= 1\n",
    "    \n",
    "    \n",
    "    return sorted(lst)[index]\n",
    "\n",
    "print(quantile([1, 2, 3, 4], 0.2))"
   ]
  },
  {
   "cell_type": "code",
   "execution_count": 13,
   "metadata": {},
   "outputs": [
    {
     "name": "stdout",
     "output_type": "stream",
     "text": [
      "75\n"
     ]
    }
   ],
   "source": [
    "def interquartile_range(lst):\n",
    "    \"\"\"\n",
    "    get the difference between the first and third quarter of a list\n",
    "    \"\"\"\n",
    "    return quantile(lst, 0.75) - quantile(lst, 0.25)\n",
    "\n",
    "print(interquartile_range(number))"
   ]
  },
  {
   "cell_type": "code",
   "execution_count": null,
   "metadata": {},
   "outputs": [],
   "source": []
  }
 ],
 "metadata": {
  "kernelspec": {
   "display_name": "Python 3",
   "language": "python",
   "name": "python3"
  },
  "language_info": {
   "codemirror_mode": {
    "name": "ipython",
    "version": 3
   },
   "file_extension": ".py",
   "mimetype": "text/x-python",
   "name": "python",
   "nbconvert_exporter": "python",
   "pygments_lexer": "ipython3",
   "version": "3.6.5"
  }
 },
 "nbformat": 4,
 "nbformat_minor": 2
}
