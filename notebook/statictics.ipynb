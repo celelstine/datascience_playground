{
 "cells": [
  {
   "cell_type": "code",
   "execution_count": 3,
   "metadata": {},
   "outputs": [],
   "source": [
    "# data generations\n",
    "import random\n",
    "\n",
    "rand_numbers = [random.randint(1, 150) for _ in range(100)]\n",
    "\n",
    "numbers = [\n",
    "    139, 68, 9, 20, 147, 94, 145, 134, 134, 46, 101, 104, 68, 15, 74, 87,\n",
    "    90, 114, 2, 30, 35, 79, 147, 14, 149, 16, 74, 74, 113, 100, 106, 58,\n",
    "    93, 2, 14, 6, 61, 2, 68, 23, 33, 21, 137, 128, 144, 54, 40, 29, 110,\n",
    "    83, 36, 89, 5, 20, 144, 29, 120, 87, 145, 59, 17, 53, 86, 98, 10, 7,\n",
    "    45, 93, 81, 111, 32, 21, 140, 10, 117, 95, 98, 65, 141, 126, 131, 49,\n",
    "    54, 23, 35, 100, 109, 62, 14, 75, 70, 93, 12, 91, 35, 1, 69, 59, 138, 83\n",
    "]"
   ]
  },
  {
   "cell_type": "code",
   "execution_count": 17,
   "metadata": {},
   "outputs": [
    {
     "name": "stdout",
     "output_type": "stream",
     "text": [
      "71.17\n"
     ]
    }
   ],
   "source": [
    "def mean(lst):\n",
    "    \"\"\"\n",
    "    return sum divided by number of items\n",
    "    \n",
    "    >>> mean([1,4,5,6])\n",
    "    164/4 = 4\n",
    "    \"\"\"\n",
    "    if len(lst) == 0:\n",
    "        return 0\n",
    "    total = 0\n",
    "    num = 0\n",
    "    for item in lst:\n",
    "        num += 1\n",
    "        total += item\n",
    "    return total/num\n",
    "\n",
    "print(mean(numbers))\n",
    "        "
   ]
  },
  {
   "cell_type": "code",
   "execution_count": 18,
   "metadata": {},
   "outputs": [
    {
     "name": "stdout",
     "output_type": "stream",
     "text": [
      "72.0\n"
     ]
    }
   ],
   "source": [
    "def median(lst):\n",
    "    \"\"\"\n",
    "    get the number at the middle of a sorted list, if the number of items is an odd number\n",
    "    else return the sum of the 2 middle numbers divided by 2\n",
    "    \n",
    "    >>> median([[2,5,1,5]])\n",
    "    \n",
    "    [1, 2, 5, 5] \n",
    "    2 + 5 / 2 = 3.5\n",
    "    \"\"\"\n",
    "    if len(lst) == 0:\n",
    "        return 0\n",
    "\n",
    "    sorted_lst = sorted(lst)\n",
    "    num_items = len(lst)\n",
    "    mid_point = int(num_items/2)\n",
    "    \n",
    "    if num_items % 2 == 1:\n",
    "        return sorted_lst[mid_point]\n",
    "    \n",
    "    \n",
    "    return (sorted_lst[mid_point] + sorted_lst[mid_point-1]) / 2\n",
    "\n",
    "print(median(numbers))"
   ]
  },
  {
   "cell_type": "code",
   "execution_count": 19,
   "metadata": {},
   "outputs": [
    {
     "name": "stdout",
     "output_type": "stream",
     "text": [
      "[68, 74, 2, 35, 14, 93]\n"
     ]
    }
   ],
   "source": [
    "from collections import Counter\n",
    "def mode(lst):\n",
    "    \"\"\"\n",
    "    get the most occurring items, not in any order\n",
    "    \n",
    "    >>> mode([3, 5,3, 5, 6, 2])\n",
    "    [3, 5]\n",
    "    \n",
    "    \"\"\"\n",
    "    counts = Counter(lst)\n",
    "    # can use counts.most_common\n",
    "    max_count = counts.get(max(counts, key=lambda item: counts.get(item)))\n",
    "\n",
    "    # get items with the max count\n",
    "    return [\n",
    "        item for item, count in counts.items() \n",
    "        if count == max_count\n",
    "    ]\n",
    "\n",
    "print(mode(numbers))"
   ]
  },
  {
   "cell_type": "code",
   "execution_count": 20,
   "metadata": {},
   "outputs": [
    {
     "name": "stdout",
     "output_type": "stream",
     "text": [
      "148\n"
     ]
    }
   ],
   "source": [
    "# dispersion\n",
    "\n",
    "def data_range(lst):\n",
    "    \"\"\"largest minus smallest\"\"\"\n",
    "    return max(lst) - min(lst)\n",
    "\n",
    "print(data_range(numbers))\n",
    "\n"
   ]
  },
  {
   "cell_type": "code",
   "execution_count": 21,
   "metadata": {},
   "outputs": [
    {
     "name": "stdout",
     "output_type": "stream",
     "text": [
      "[67.83, -3.1700000000000017, -62.17, -51.17, 75.83, 22.83, 73.83, 62.83, 62.83, -25.17, 29.83, 32.83, -3.1700000000000017, -56.17, 2.8299999999999983, 15.829999999999998, 18.83, 42.83, -69.17, -41.17, -36.17, 7.829999999999998, 75.83, -57.17, 77.83, -55.17, 2.8299999999999983, 2.8299999999999983, 41.83, 28.83, 34.83, -13.170000000000002, 21.83, -69.17, -57.17, -65.17, -10.170000000000002, -69.17, -3.1700000000000017, -48.17, -38.17, -50.17, 65.83, 56.83, 72.83, -17.17, -31.17, -42.17, 38.83, 11.829999999999998, -35.17, 17.83, -66.17, -51.17, 72.83, -42.17, 48.83, 15.829999999999998, 73.83, -12.170000000000002, -54.17, -18.17, 14.829999999999998, 26.83, -61.17, -64.17, -26.17, 21.83, 9.829999999999998, 39.83, -39.17, -50.17, 68.83, -61.17, 45.83, 23.83, 26.83, -6.170000000000002, 69.83, 54.83, 59.83, -22.17, -17.17, -48.17, -36.17, 28.83, 37.83, -9.170000000000002, -57.17, 3.8299999999999983, -1.1700000000000017, 21.83, -59.17, 19.83, -36.17, -70.17, -2.1700000000000017, -12.170000000000002, 66.83, 11.829999999999998]\n"
     ]
    }
   ],
   "source": [
    "def de_mean(lst):\n",
    "    \"\"\"\n",
    "    even a list substract the mean from each item\n",
    "    \n",
    "    >>> de_mean([1,4,5,6])\n",
    "    [item - 4 for item in lst]\n",
    "    \"\"\"\n",
    "    _mean = mean(lst)\n",
    "    return [ item - _mean for item in lst]\n",
    "\n",
    "print(de_mean(numbers))"
   ]
  },
  {
   "cell_type": "code",
   "execution_count": 22,
   "metadata": {},
   "outputs": [
    {
     "name": "stdout",
     "output_type": "stream",
     "text": [
      "708527\n"
     ]
    }
   ],
   "source": [
    "def sum_of_squares(lst):\n",
    "    \"\"\"\n",
    "    return the sum of the square of the items in a list\n",
    "    \n",
    "    >>> sum_of_squares([1,4,6,7])\n",
    "    1 + 16 + 36 + 49\n",
    "    \"\"\"\n",
    "    result = 0\n",
    "    for item in lst:\n",
    "        result += item ** 2\n",
    "        \n",
    "    return result\n",
    "\n",
    "print(sum_of_squares(numbers))"
   ]
  },
  {
   "cell_type": "code",
   "execution_count": 23,
   "metadata": {},
   "outputs": [
    {
     "name": "stdout",
     "output_type": "stream",
     "text": [
      "2040.5061616161615\n"
     ]
    }
   ],
   "source": [
    "def variance(lst):\n",
    "    \"\"\"\n",
    "    return the sum of the square of the de_mean of a list divided by num of items minus 1\n",
    "    \n",
    "    the unit is square of the unit of the items, such as meter square\n",
    "    \n",
    "    >>> variance([1,3,5,6])\n",
    "    sum_of_squares(de_mean([1,3,5,6])) / n-1\n",
    "    \"\"\"\n",
    "    _de_mean = de_mean(lst)\n",
    "    return sum_of_squares(_de_mean) / (len(lst) -1 )\n",
    "\n",
    "print(variance(numbers))"
   ]
  },
  {
   "cell_type": "code",
   "execution_count": 24,
   "metadata": {},
   "outputs": [
    {
     "name": "stdout",
     "output_type": "stream",
     "text": [
      "45.17196211828928\n"
     ]
    }
   ],
   "source": [
    "import math\n",
    "\n",
    "def standard_deviation(lst):\n",
    "    \"\"\"\n",
    "    return the square root of the variance, it has the same unit as each item\n",
    "    \"\"\"\n",
    "    return math.sqrt(variance(lst))\n",
    "\n",
    "print(standard_deviation(numbers))"
   ]
  },
  {
   "cell_type": "code",
   "execution_count": 25,
   "metadata": {},
   "outputs": [
    {
     "name": "stdout",
     "output_type": "stream",
     "text": [
      "7117\n"
     ]
    }
   ],
   "source": [
    "def dot(*list_set, **kwargs):\n",
    "    \"\"\"\n",
    "    return the sum of each item in a group of list and return the sum of the items\n",
    "    \"\"\"\n",
    "    \n",
    "    if len(list_set) == 0:\n",
    "        return 0\n",
    "    \n",
    "    size = len(list_set[0])\n",
    "    no_list = len(list_set)\n",
    "    result = 0\n",
    "    \n",
    "    for i in range(size):\n",
    "        _row_multiple = 1\n",
    "        for j in range(no_list):\n",
    "            _row_multiple *= list_set[j][i]\n",
    "        result += _row_multiple\n",
    "    return result\n",
    "\n",
    "print(dot(numbers))"
   ]
  },
  {
   "cell_type": "code",
   "execution_count": 26,
   "metadata": {},
   "outputs": [
    {
     "name": "stdout",
     "output_type": "stream",
     "text": [
      "2040.5061616161615\n"
     ]
    }
   ],
   "source": [
    "def covariance(lst1, lst2):\n",
    "    \"\"\"\n",
    "    get the relationship betweent 2 list\n",
    "    \"\"\"\n",
    "    size = len(lst1)\n",
    "    return dot(de_mean(lst1), de_mean(lst2)) / (size - 1)\n",
    "\n",
    "\n",
    "print(covariance(numbers, numbers))\n",
    "    "
   ]
  },
  {
   "cell_type": "code",
   "execution_count": 27,
   "metadata": {},
   "outputs": [
    {
     "name": "stdout",
     "output_type": "stream",
     "text": [
      "1\n"
     ]
    }
   ],
   "source": [
    "def quantile(lst, percentage):\n",
    "    \"\"\"\n",
    "    get the element that percentage * num of item index\n",
    "    \n",
    "    >>> quantile([1,2,45,6], 0.75)\n",
    "    \n",
    "    [1,2,45,6][0.75 * 4 - 1] >> [1,2,45,6][2] = 45\n",
    "    \"\"\"\n",
    "    \n",
    "    num_items = len(lst)\n",
    "    if num_items == 0:\n",
    "        return None\n",
    "    \n",
    "    if percentage > 1:\n",
    "        raise ValueError(\"percentage should be between 0 and 1.0\")\n",
    "    \n",
    "    index = int(percentage * num_items)\n",
    "    \n",
    "    if index > 1:\n",
    "        index -= 1\n",
    "    \n",
    "    \n",
    "    return sorted(lst)[index]\n",
    "\n",
    "print(quantile([1, 2, 3, 4], 0.2))"
   ]
  },
  {
   "cell_type": "code",
   "execution_count": 28,
   "metadata": {},
   "outputs": [
    {
     "name": "stdout",
     "output_type": "stream",
     "text": [
      "75\n"
     ]
    }
   ],
   "source": [
    "def interquartile_range(lst):\n",
    "    \"\"\"\n",
    "    get the difference between the first and third quarter of a list\n",
    "    \"\"\"\n",
    "    return quantile(lst, 0.75) - quantile(lst, 0.25)\n",
    "\n",
    "print(interquartile_range(number))"
   ]
  },
  {
   "cell_type": "code",
   "execution_count": null,
   "metadata": {},
   "outputs": [],
   "source": [
    "def correlation(lst_1, lst_2):\n",
    "    \"\"\"\n",
    "    get the relationship between to list, value should be between - 1 and 1\n",
    "    \"\"\"\n",
    "    stdev_lst_1 = standard_deviation(lst_1)\n",
    "    stdev_lst_2 = standard_deviation(lst_2)\n",
    "    \n",
    "    if stdev_lst_1 > 0 and stdev_lst_2 > 0:\n",
    "        return covariance(lst_1, lst_2) / stdev_lst_1 / stdev_lst_2\n",
    "    \n",
    "    return 0\n",
    "\n",
    "# should be 1 is the are the same\n",
    "print(correlation(numbers, numbers))"
   ]
  },
  {
   "cell_type": "code",
   "execution_count": 12,
   "metadata": {},
   "outputs": [
    {
     "name": "stdout",
     "output_type": "stream",
     "text": [
      "\u001b[33mYou are using pip version 6.1.1, however version 20.1.1 is available.\n",
      "You should consider upgrading via the 'pip install --upgrade pip' command.\u001b[0m\n",
      "Requirement already satisfied (use --upgrade to upgrade): matplotlib in /System/Library/Frameworks/Python.framework/Versions/2.7/Extras/lib/python\n",
      "Requirement already satisfied (use --upgrade to upgrade): numpy>=1.5 in /System/Library/Frameworks/Python.framework/Versions/2.7/Extras/lib/python (from matplotlib)\n",
      "Requirement already satisfied (use --upgrade to upgrade): python-dateutil in /System/Library/Frameworks/Python.framework/Versions/2.7/Extras/lib/python (from matplotlib)\n",
      "Collecting tornado (from matplotlib)\n",
      "  Using cached https://files.pythonhosted.org/packages/95/84/119a46d494f008969bf0c775cb2c6b3579d3c4cc1bb1b41a022aa93ee242/tornado-6.0.4.tar.gz\n",
      "Requirement already satisfied (use --upgrade to upgrade): pyparsing>=1.5.6 in /System/Library/Frameworks/Python.framework/Versions/2.7/Extras/lib/python (from matplotlib)\n",
      "Collecting nose (from matplotlib)\n",
      "  Using cached https://files.pythonhosted.org/packages/99/4f/13fb671119e65c4dce97c60e67d3fd9e6f7f809f2b307e2611f4701205cb/nose-1.3.7-py2-none-any.whl\n",
      "Installing collected packages: tornado, nose\n",
      "  Running setup.py install for tornado\n",
      "    Complete output from command /System/Library/Frameworks/Python.framework/Versions/2.7/Resources/Python.app/Contents/MacOS/Python -c \"import setuptools, tokenize;__file__='/private/var/folders/mx/_7t8gjz932j1fltk8gt158ww0000gp/T/pip-build-ueQnOZ/tornado/setup.py';exec(compile(getattr(tokenize, 'open', open)(__file__).read().replace('\\r\\n', '\\n'), __file__, 'exec'))\" install --record /var/folders/mx/_7t8gjz932j1fltk8gt158ww0000gp/T/pip-qqNx4q-record/install-record.txt --single-version-externally-managed --compile:\n",
      "    /System/Library/Frameworks/Python.framework/Versions/2.7/lib/python2.7/distutils/dist.py:267: UserWarning: Unknown distribution option: 'python_requires'\n",
      "      warnings.warn(msg)\n",
      "    running install\n",
      "    running build\n",
      "    running build_py\n",
      "    creating build\n",
      "    creating build/lib.macosx-10.14-intel-2.7\n",
      "    creating build/lib.macosx-10.14-intel-2.7/tornado\n",
      "    copying tornado/options.py -> build/lib.macosx-10.14-intel-2.7/tornado\n",
      "    copying tornado/auth.py -> build/lib.macosx-10.14-intel-2.7/tornado\n",
      "    copying tornado/concurrent.py -> build/lib.macosx-10.14-intel-2.7/tornado\n",
      "    copying tornado/escape.py -> build/lib.macosx-10.14-intel-2.7/tornado\n",
      "    copying tornado/web.py -> build/lib.macosx-10.14-intel-2.7/tornado\n",
      "    copying tornado/queues.py -> build/lib.macosx-10.14-intel-2.7/tornado\n",
      "    copying tornado/httpclient.py -> build/lib.macosx-10.14-intel-2.7/tornado\n",
      "    copying tornado/_locale_data.py -> build/lib.macosx-10.14-intel-2.7/tornado\n",
      "    copying tornado/gen.py -> build/lib.macosx-10.14-intel-2.7/tornado\n",
      "    copying tornado/iostream.py -> build/lib.macosx-10.14-intel-2.7/tornado\n",
      "    copying tornado/log.py -> build/lib.macosx-10.14-intel-2.7/tornado\n",
      "    copying tornado/util.py -> build/lib.macosx-10.14-intel-2.7/tornado\n",
      "    copying tornado/locks.py -> build/lib.macosx-10.14-intel-2.7/tornado\n",
      "    copying tornado/httpserver.py -> build/lib.macosx-10.14-intel-2.7/tornado\n",
      "    copying tornado/__init__.py -> build/lib.macosx-10.14-intel-2.7/tornado\n",
      "    copying tornado/netutil.py -> build/lib.macosx-10.14-intel-2.7/tornado\n",
      "    copying tornado/httputil.py -> build/lib.macosx-10.14-intel-2.7/tornado\n",
      "    copying tornado/ioloop.py -> build/lib.macosx-10.14-intel-2.7/tornado\n",
      "    copying tornado/routing.py -> build/lib.macosx-10.14-intel-2.7/tornado\n",
      "    copying tornado/tcpserver.py -> build/lib.macosx-10.14-intel-2.7/tornado\n",
      "    copying tornado/template.py -> build/lib.macosx-10.14-intel-2.7/tornado\n",
      "    copying tornado/locale.py -> build/lib.macosx-10.14-intel-2.7/tornado\n",
      "    copying tornado/curl_httpclient.py -> build/lib.macosx-10.14-intel-2.7/tornado\n",
      "    copying tornado/process.py -> build/lib.macosx-10.14-intel-2.7/tornado\n",
      "    copying tornado/autoreload.py -> build/lib.macosx-10.14-intel-2.7/tornado\n",
      "    copying tornado/testing.py -> build/lib.macosx-10.14-intel-2.7/tornado\n",
      "    copying tornado/simple_httpclient.py -> build/lib.macosx-10.14-intel-2.7/tornado\n",
      "    copying tornado/http1connection.py -> build/lib.macosx-10.14-intel-2.7/tornado\n",
      "    copying tornado/tcpclient.py -> build/lib.macosx-10.14-intel-2.7/tornado\n",
      "    copying tornado/websocket.py -> build/lib.macosx-10.14-intel-2.7/tornado\n",
      "    copying tornado/wsgi.py -> build/lib.macosx-10.14-intel-2.7/tornado\n",
      "    creating build/lib.macosx-10.14-intel-2.7/tornado/test\n",
      "    copying tornado/test/httpclient_test.py -> build/lib.macosx-10.14-intel-2.7/tornado/test\n",
      "    copying tornado/test/queues_test.py -> build/lib.macosx-10.14-intel-2.7/tornado/test\n",
      "    copying tornado/test/auth_test.py -> build/lib.macosx-10.14-intel-2.7/tornado/test\n",
      "    copying tornado/test/httpserver_test.py -> build/lib.macosx-10.14-intel-2.7/tornado/test\n",
      "    copying tornado/test/process_test.py -> build/lib.macosx-10.14-intel-2.7/tornado/test\n",
      "    copying tornado/test/twisted_test.py -> build/lib.macosx-10.14-intel-2.7/tornado/test\n",
      "    copying tornado/test/util.py -> build/lib.macosx-10.14-intel-2.7/tornado/test\n",
      "    copying tornado/test/gen_test.py -> build/lib.macosx-10.14-intel-2.7/tornado/test\n",
      "    copying tornado/test/concurrent_test.py -> build/lib.macosx-10.14-intel-2.7/tornado/test\n",
      "    copying tornado/test/web_test.py -> build/lib.macosx-10.14-intel-2.7/tornado/test\n",
      "    copying tornado/test/routing_test.py -> build/lib.macosx-10.14-intel-2.7/tornado/test\n",
      "    copying tornado/test/locks_test.py -> build/lib.macosx-10.14-intel-2.7/tornado/test\n",
      "    copying tornado/test/template_test.py -> build/lib.macosx-10.14-intel-2.7/tornado/test\n",
      "    copying tornado/test/autoreload_test.py -> build/lib.macosx-10.14-intel-2.7/tornado/test\n",
      "    copying tornado/test/__init__.py -> build/lib.macosx-10.14-intel-2.7/tornado/test\n",
      "    copying tornado/test/wsgi_test.py -> build/lib.macosx-10.14-intel-2.7/tornado/test\n",
      "    copying tornado/test/curl_httpclient_test.py -> build/lib.macosx-10.14-intel-2.7/tornado/test\n",
      "    copying tornado/test/ioloop_test.py -> build/lib.macosx-10.14-intel-2.7/tornado/test\n",
      "    copying tornado/test/simple_httpclient_test.py -> build/lib.macosx-10.14-intel-2.7/tornado/test\n",
      "    copying tornado/test/httputil_test.py -> build/lib.macosx-10.14-intel-2.7/tornado/test\n",
      "    copying tornado/test/websocket_test.py -> build/lib.macosx-10.14-intel-2.7/tornado/test\n",
      "    copying tornado/test/util_test.py -> build/lib.macosx-10.14-intel-2.7/tornado/test\n",
      "    copying tornado/test/log_test.py -> build/lib.macosx-10.14-intel-2.7/tornado/test\n",
      "    copying tornado/test/tcpclient_test.py -> build/lib.macosx-10.14-intel-2.7/tornado/test\n",
      "    copying tornado/test/netutil_test.py -> build/lib.macosx-10.14-intel-2.7/tornado/test\n",
      "    copying tornado/test/http1connection_test.py -> build/lib.macosx-10.14-intel-2.7/tornado/test\n",
      "    copying tornado/test/options_test.py -> build/lib.macosx-10.14-intel-2.7/tornado/test\n",
      "    copying tornado/test/import_test.py -> build/lib.macosx-10.14-intel-2.7/tornado/test\n",
      "    copying tornado/test/testing_test.py -> build/lib.macosx-10.14-intel-2.7/tornado/test\n",
      "    copying tornado/test/windows_test.py -> build/lib.macosx-10.14-intel-2.7/tornado/test\n",
      "    copying tornado/test/tcpserver_test.py -> build/lib.macosx-10.14-intel-2.7/tornado/test\n",
      "    copying tornado/test/locale_test.py -> build/lib.macosx-10.14-intel-2.7/tornado/test\n",
      "    copying tornado/test/resolve_test_helper.py -> build/lib.macosx-10.14-intel-2.7/tornado/test\n",
      "    copying tornado/test/asyncio_test.py -> build/lib.macosx-10.14-intel-2.7/tornado/test\n",
      "    copying tornado/test/__main__.py -> build/lib.macosx-10.14-intel-2.7/tornado/test\n",
      "    copying tornado/test/iostream_test.py -> build/lib.macosx-10.14-intel-2.7/tornado/test\n",
      "    copying tornado/test/runtests.py -> build/lib.macosx-10.14-intel-2.7/tornado/test\n",
      "    copying tornado/test/escape_test.py -> build/lib.macosx-10.14-intel-2.7/tornado/test\n",
      "    creating build/lib.macosx-10.14-intel-2.7/tornado/platform\n",
      "    copying tornado/platform/asyncio.py -> build/lib.macosx-10.14-intel-2.7/tornado/platform\n",
      "    copying tornado/platform/interface.py -> build/lib.macosx-10.14-intel-2.7/tornado/platform\n",
      "    copying tornado/platform/__init__.py -> build/lib.macosx-10.14-intel-2.7/tornado/platform\n",
      "    copying tornado/platform/caresresolver.py -> build/lib.macosx-10.14-intel-2.7/tornado/platform\n",
      "    copying tornado/platform/twisted.py -> build/lib.macosx-10.14-intel-2.7/tornado/platform\n",
      "    copying tornado/platform/posix.py -> build/lib.macosx-10.14-intel-2.7/tornado/platform\n",
      "    copying tornado/platform/windows.py -> build/lib.macosx-10.14-intel-2.7/tornado/platform\n",
      "    copying tornado/platform/auto.py -> build/lib.macosx-10.14-intel-2.7/tornado/platform\n",
      "    copying tornado/py.typed -> build/lib.macosx-10.14-intel-2.7/tornado\n",
      "    creating build/lib.macosx-10.14-intel-2.7/tornado/test/csv_translations\n",
      "    copying tornado/test/csv_translations/fr_FR.csv -> build/lib.macosx-10.14-intel-2.7/tornado/test/csv_translations\n",
      "    creating build/lib.macosx-10.14-intel-2.7/tornado/test/gettext_translations\n",
      "    creating build/lib.macosx-10.14-intel-2.7/tornado/test/gettext_translations/fr_FR\n",
      "    creating build/lib.macosx-10.14-intel-2.7/tornado/test/gettext_translations/fr_FR/LC_MESSAGES\n",
      "    copying tornado/test/gettext_translations/fr_FR/LC_MESSAGES/tornado_test.mo -> build/lib.macosx-10.14-intel-2.7/tornado/test/gettext_translations/fr_FR/LC_MESSAGES\n",
      "    copying tornado/test/gettext_translations/fr_FR/LC_MESSAGES/tornado_test.po -> build/lib.macosx-10.14-intel-2.7/tornado/test/gettext_translations/fr_FR/LC_MESSAGES\n",
      "    copying tornado/test/options_test.cfg -> build/lib.macosx-10.14-intel-2.7/tornado/test\n",
      "    copying tornado/test/options_test_types.cfg -> build/lib.macosx-10.14-intel-2.7/tornado/test\n",
      "    copying tornado/test/options_test_types_str.cfg -> build/lib.macosx-10.14-intel-2.7/tornado/test\n",
      "    creating build/lib.macosx-10.14-intel-2.7/tornado/test/static\n",
      "    copying tornado/test/static/robots.txt -> build/lib.macosx-10.14-intel-2.7/tornado/test/static\n",
      "    copying tornado/test/static/sample.xml -> build/lib.macosx-10.14-intel-2.7/tornado/test/static\n",
      "    copying tornado/test/static/sample.xml.gz -> build/lib.macosx-10.14-intel-2.7/tornado/test/static\n",
      "    copying tornado/test/static/sample.xml.bz2 -> build/lib.macosx-10.14-intel-2.7/tornado/test/static\n",
      "    creating build/lib.macosx-10.14-intel-2.7/tornado/test/static/dir\n",
      "    copying tornado/test/static/dir/index.html -> build/lib.macosx-10.14-intel-2.7/tornado/test/static/dir\n",
      "    copying tornado/test/static_foo.txt -> build/lib.macosx-10.14-intel-2.7/tornado/test\n",
      "    creating build/lib.macosx-10.14-intel-2.7/tornado/test/templates\n",
      "    copying tornado/test/templates/utf8.html -> build/lib.macosx-10.14-intel-2.7/tornado/test/templates\n",
      "    copying tornado/test/test.crt -> build/lib.macosx-10.14-intel-2.7/tornado/test\n",
      "    copying tornado/test/test.key -> build/lib.macosx-10.14-intel-2.7/tornado/test\n",
      "    running build_ext\n",
      "    building 'tornado.speedups' extension\n",
      "    creating build/temp.macosx-10.14-intel-2.7\n",
      "    creating build/temp.macosx-10.14-intel-2.7/tornado\n",
      "    cc -fno-strict-aliasing -fno-common -dynamic -g -Os -pipe -fno-common -fno-strict-aliasing -fwrapv -DENABLE_DTRACE -DMACOSX -DNDEBUG -Wall -Wstrict-prototypes -Wshorten-64-to-32 -DNDEBUG -g -fwrapv -Os -Wall -Wstrict-prototypes -DENABLE_DTRACE -arch i386 -arch x86_64 -pipe -I/System/Library/Frameworks/Python.framework/Versions/2.7/include/python2.7 -c tornado/speedups.c -o build/temp.macosx-10.14-intel-2.7/tornado/speedups.o\n",
      "    cc -bundle -undefined dynamic_lookup -Wl,-F. build/temp.macosx-10.14-intel-2.7/tornado/speedups.o -o build/lib.macosx-10.14-intel-2.7/tornado/speedups.so\n",
      "    running install_lib\n",
      "    creating /Library/Python/2.7/site-packages/tornado\n",
      "    error: could not create '/Library/Python/2.7/site-packages/tornado': Permission denied\n",
      "    \n",
      "    ----------------------------------------\n"
     ]
    },
    {
     "name": "stdout",
     "output_type": "stream",
     "text": [
      "\u001b[31m    Command \"/System/Library/Frameworks/Python.framework/Versions/2.7/Resources/Python.app/Contents/MacOS/Python -c \"import setuptools, tokenize;__file__='/private/var/folders/mx/_7t8gjz932j1fltk8gt158ww0000gp/T/pip-build-ueQnOZ/tornado/setup.py';exec(compile(getattr(tokenize, 'open', open)(__file__).read().replace('\\r\\n', '\\n'), __file__, 'exec'))\" install --record /var/folders/mx/_7t8gjz932j1fltk8gt158ww0000gp/T/pip-qqNx4q-record/install-record.txt --single-version-externally-managed --compile\" failed with error code 1 in /private/var/folders/mx/_7t8gjz932j1fltk8gt158ww0000gp/T/pip-build-ueQnOZ/tornado\u001b[0m\r\n"
     ]
    },
    {
     "data": {
      "text/plain": [
       "Text(0, 0.5, 'test 2 grade')"
      ]
     },
     "execution_count": 12,
     "metadata": {},
     "output_type": "execute_result"
    },
    {
     "data": {
      "image/png": "[encoded data removed]",
      "text/plain": [
       "<Figure size 432x288 with 1 Axes>"
      ]
     },
     "metadata": {
      "needs_background": "light"
     },
     "output_type": "display_data"
    }
   ],
   "source": [
    "!pip install matplotlib\n"
   ]
  },
  {
   "cell_type": "code",
   "execution_count": 1,
   "metadata": {},
   "outputs": [
    {
     "ename": "NameError",
     "evalue": "name 'numbers' is not defined",
     "output_type": "error",
     "traceback": [
      "\u001b[0;31m---------------------------------------------------------------------------\u001b[0m",
      "\u001b[0;31mNameError\u001b[0m                                 Traceback (most recent call last)",
      "\u001b[0;32m<ipython-input-1-cb02cfee7cd0>\u001b[0m in \u001b[0;36m<module>\u001b[0;34m\u001b[0m\n\u001b[1;32m      1\u001b[0m \u001b[0;32mfrom\u001b[0m \u001b[0mmatplotlib\u001b[0m \u001b[0;32mimport\u001b[0m \u001b[0mpyplot\u001b[0m \u001b[0;32mas\u001b[0m \u001b[0mplt\u001b[0m\u001b[0;34m\u001b[0m\u001b[0;34m\u001b[0m\u001b[0m\n\u001b[0;32m----> 2\u001b[0;31m \u001b[0mplt\u001b[0m\u001b[0;34m.\u001b[0m\u001b[0mscatter\u001b[0m\u001b[0;34m(\u001b[0m\u001b[0mnumbers\u001b[0m\u001b[0;34m,\u001b[0m \u001b[0mnumbers\u001b[0m\u001b[0;34m[\u001b[0m\u001b[0;34m:\u001b[0m\u001b[0;34m:\u001b[0m\u001b[0;34m-\u001b[0m\u001b[0;36m1\u001b[0m\u001b[0;34m]\u001b[0m\u001b[0;34m)\u001b[0m\u001b[0;34m\u001b[0m\u001b[0;34m\u001b[0m\u001b[0m\n\u001b[0m\u001b[1;32m      3\u001b[0m \u001b[0mplt\u001b[0m\u001b[0;34m.\u001b[0m\u001b[0mtitle\u001b[0m\u001b[0;34m(\u001b[0m\u001b[0;34m\"Axes Aren't Comparable\"\u001b[0m\u001b[0;34m)\u001b[0m\u001b[0;34m\u001b[0m\u001b[0;34m\u001b[0m\u001b[0m\n\u001b[1;32m      4\u001b[0m \u001b[0mplt\u001b[0m\u001b[0;34m.\u001b[0m\u001b[0mxlabel\u001b[0m\u001b[0;34m(\u001b[0m\u001b[0;34m\"test 1 grade\"\u001b[0m\u001b[0;34m)\u001b[0m\u001b[0;34m\u001b[0m\u001b[0;34m\u001b[0m\u001b[0m\n\u001b[1;32m      5\u001b[0m \u001b[0mplt\u001b[0m\u001b[0;34m.\u001b[0m\u001b[0mylabel\u001b[0m\u001b[0;34m(\u001b[0m\u001b[0;34m\"test 2 grade\"\u001b[0m\u001b[0;34m)\u001b[0m\u001b[0;34m\u001b[0m\u001b[0;34m\u001b[0m\u001b[0m\n",
      "\u001b[0;31mNameError\u001b[0m: name 'numbers' is not defined"
     ]
    }
   ],
   "source": [
    "from matplotlib import pyplot as plt\n",
    "plt.scatter(numbers, numbers[::-1])\n",
    "plt.title(\"Axes Aren't Comparable\")\n",
    "plt.xlabel(\"test 1 grade\")\n",
    "plt.ylabel(\"test 2 grade\")"
   ]
  },
  {
   "cell_type": "code",
   "execution_count": null,
   "metadata": {},
   "outputs": [],
   "source": []
  }
 ],
 "metadata": {
  "kernelspec": {
   "display_name": "Python 3",
   "language": "python",
   "name": "python3"
  },
  "language_info": {
   "codemirror_mode": {
    "name": "ipython",
    "version": 3
   },
   "file_extension": ".py",
   "mimetype": "text/x-python",
   "name": "python",
   "nbconvert_exporter": "python",
   "pygments_lexer": "ipython3",
   "version": "3.8.2"
  }
 },
 "nbformat": 4,
 "nbformat_minor": 2
}
